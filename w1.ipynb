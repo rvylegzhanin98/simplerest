{
  "nbformat": 4,
  "nbformat_minor": 0,
  "metadata": {
    "colab": {
      "name": "w1.ipynb",
      "provenance": [],
      "collapsed_sections": [],
      "authorship_tag": "ABX9TyMv2QJy5VU6OYRoLOy4tz1G",
      "include_colab_link": true
    },
    "kernelspec": {
      "name": "python3",
      "display_name": "Python 3"
    },
    "language_info": {
      "name": "python"
    }
  },
  "cells": [
    {
      "cell_type": "markdown",
      "metadata": {
        "id": "view-in-github",
        "colab_type": "text"
      },
      "source": [
        "<a href=\"https://colab.research.google.com/github/rvylegzhanin98/simplerest/blob/master/w1.ipynb\" target=\"_parent\"><img src=\"https://colab.research.google.com/assets/colab-badge.svg\" alt=\"Open In Colab\"/></a>"
      ]
    },
    {
      "cell_type": "code",
      "execution_count": 102,
      "metadata": {
        "id": "5bDSx3UQ4qHe"
      },
      "outputs": [],
      "source": [
        "import pandas as pd\n",
        "import matplotlib.pyplot as plt\n",
        "import numpy as np"
      ]
    },
    {
      "cell_type": "code",
      "source": [
        "data = pd.read_csv('Points.csv', index_col=0)\n",
        "data.head()"
      ],
      "metadata": {
        "colab": {
          "base_uri": "https://localhost:8080/",
          "height": 206
        },
        "id": "mqayJXyF4wv0",
        "outputId": "de1baaf8-a89a-4f45-b5ca-a7a4ec8548e8"
      },
      "execution_count": 103,
      "outputs": [
        {
          "output_type": "execute_result",
          "data": {
            "text/plain": [
              "    x1   x2  answer\n",
              "1  1.0  1.0       1\n",
              "2  9.4  6.4      -1\n",
              "3  2.5  2.1       1\n",
              "4  8.0  7.7      -1\n",
              "5  0.5  2.2       1"
            ],
            "text/html": [
              "\n",
              "  <div id=\"df-8bd6d535-765a-40b4-a591-b2f8fc103c70\">\n",
              "    <div class=\"colab-df-container\">\n",
              "      <div>\n",
              "<style scoped>\n",
              "    .dataframe tbody tr th:only-of-type {\n",
              "        vertical-align: middle;\n",
              "    }\n",
              "\n",
              "    .dataframe tbody tr th {\n",
              "        vertical-align: top;\n",
              "    }\n",
              "\n",
              "    .dataframe thead th {\n",
              "        text-align: right;\n",
              "    }\n",
              "</style>\n",
              "<table border=\"1\" class=\"dataframe\">\n",
              "  <thead>\n",
              "    <tr style=\"text-align: right;\">\n",
              "      <th></th>\n",
              "      <th>x1</th>\n",
              "      <th>x2</th>\n",
              "      <th>answer</th>\n",
              "    </tr>\n",
              "  </thead>\n",
              "  <tbody>\n",
              "    <tr>\n",
              "      <th>1</th>\n",
              "      <td>1.0</td>\n",
              "      <td>1.0</td>\n",
              "      <td>1</td>\n",
              "    </tr>\n",
              "    <tr>\n",
              "      <th>2</th>\n",
              "      <td>9.4</td>\n",
              "      <td>6.4</td>\n",
              "      <td>-1</td>\n",
              "    </tr>\n",
              "    <tr>\n",
              "      <th>3</th>\n",
              "      <td>2.5</td>\n",
              "      <td>2.1</td>\n",
              "      <td>1</td>\n",
              "    </tr>\n",
              "    <tr>\n",
              "      <th>4</th>\n",
              "      <td>8.0</td>\n",
              "      <td>7.7</td>\n",
              "      <td>-1</td>\n",
              "    </tr>\n",
              "    <tr>\n",
              "      <th>5</th>\n",
              "      <td>0.5</td>\n",
              "      <td>2.2</td>\n",
              "      <td>1</td>\n",
              "    </tr>\n",
              "  </tbody>\n",
              "</table>\n",
              "</div>\n",
              "      <button class=\"colab-df-convert\" onclick=\"convertToInteractive('df-8bd6d535-765a-40b4-a591-b2f8fc103c70')\"\n",
              "              title=\"Convert this dataframe to an interactive table.\"\n",
              "              style=\"display:none;\">\n",
              "        \n",
              "  <svg xmlns=\"http://www.w3.org/2000/svg\" height=\"24px\"viewBox=\"0 0 24 24\"\n",
              "       width=\"24px\">\n",
              "    <path d=\"M0 0h24v24H0V0z\" fill=\"none\"/>\n",
              "    <path d=\"M18.56 5.44l.94 2.06.94-2.06 2.06-.94-2.06-.94-.94-2.06-.94 2.06-2.06.94zm-11 1L8.5 8.5l.94-2.06 2.06-.94-2.06-.94L8.5 2.5l-.94 2.06-2.06.94zm10 10l.94 2.06.94-2.06 2.06-.94-2.06-.94-.94-2.06-.94 2.06-2.06.94z\"/><path d=\"M17.41 7.96l-1.37-1.37c-.4-.4-.92-.59-1.43-.59-.52 0-1.04.2-1.43.59L10.3 9.45l-7.72 7.72c-.78.78-.78 2.05 0 2.83L4 21.41c.39.39.9.59 1.41.59.51 0 1.02-.2 1.41-.59l7.78-7.78 2.81-2.81c.8-.78.8-2.07 0-2.86zM5.41 20L4 18.59l7.72-7.72 1.47 1.35L5.41 20z\"/>\n",
              "  </svg>\n",
              "      </button>\n",
              "      \n",
              "  <style>\n",
              "    .colab-df-container {\n",
              "      display:flex;\n",
              "      flex-wrap:wrap;\n",
              "      gap: 12px;\n",
              "    }\n",
              "\n",
              "    .colab-df-convert {\n",
              "      background-color: #E8F0FE;\n",
              "      border: none;\n",
              "      border-radius: 50%;\n",
              "      cursor: pointer;\n",
              "      display: none;\n",
              "      fill: #1967D2;\n",
              "      height: 32px;\n",
              "      padding: 0 0 0 0;\n",
              "      width: 32px;\n",
              "    }\n",
              "\n",
              "    .colab-df-convert:hover {\n",
              "      background-color: #E2EBFA;\n",
              "      box-shadow: 0px 1px 2px rgba(60, 64, 67, 0.3), 0px 1px 3px 1px rgba(60, 64, 67, 0.15);\n",
              "      fill: #174EA6;\n",
              "    }\n",
              "\n",
              "    [theme=dark] .colab-df-convert {\n",
              "      background-color: #3B4455;\n",
              "      fill: #D2E3FC;\n",
              "    }\n",
              "\n",
              "    [theme=dark] .colab-df-convert:hover {\n",
              "      background-color: #434B5C;\n",
              "      box-shadow: 0px 1px 3px 1px rgba(0, 0, 0, 0.15);\n",
              "      filter: drop-shadow(0px 1px 2px rgba(0, 0, 0, 0.3));\n",
              "      fill: #FFFFFF;\n",
              "    }\n",
              "  </style>\n",
              "\n",
              "      <script>\n",
              "        const buttonEl =\n",
              "          document.querySelector('#df-8bd6d535-765a-40b4-a591-b2f8fc103c70 button.colab-df-convert');\n",
              "        buttonEl.style.display =\n",
              "          google.colab.kernel.accessAllowed ? 'block' : 'none';\n",
              "\n",
              "        async function convertToInteractive(key) {\n",
              "          const element = document.querySelector('#df-8bd6d535-765a-40b4-a591-b2f8fc103c70');\n",
              "          const dataTable =\n",
              "            await google.colab.kernel.invokeFunction('convertToInteractive',\n",
              "                                                     [key], {});\n",
              "          if (!dataTable) return;\n",
              "\n",
              "          const docLinkHtml = 'Like what you see? Visit the ' +\n",
              "            '<a target=\"_blank\" href=https://colab.research.google.com/notebooks/data_table.ipynb>data table notebook</a>'\n",
              "            + ' to learn more about interactive tables.';\n",
              "          element.innerHTML = '';\n",
              "          dataTable['output_type'] = 'display_data';\n",
              "          await google.colab.output.renderOutput(dataTable, element);\n",
              "          const docLink = document.createElement('div');\n",
              "          docLink.innerHTML = docLinkHtml;\n",
              "          element.appendChild(docLink);\n",
              "        }\n",
              "      </script>\n",
              "    </div>\n",
              "  </div>\n",
              "  "
            ]
          },
          "metadata": {},
          "execution_count": 103
        }
      ]
    },
    {
      "cell_type": "code",
      "source": [
        "data.plot(kind='scatter', x='x1', y='x2')\n",
        "plt.show()"
      ],
      "metadata": {
        "colab": {
          "base_uri": "https://localhost:8080/",
          "height": 279
        },
        "id": "tQr6Bqc_5Bfz",
        "outputId": "4e67b6a1-3ec5-4dc0-d823-8039a97ff086"
      },
      "execution_count": 104,
      "outputs": [
        {
          "output_type": "display_data",
          "data": {
            "text/plain": [
              "<Figure size 432x288 with 1 Axes>"
            ],
            "image/png": "[encoded data removed]"
          },
          "metadata": {
            "needs_background": "light"
          }
        }
      ]
    },
    {
      "cell_type": "code",
      "source": [
        "#Генерация хэша происходит при помощи сида\n",
        "#Для получения нового значения нужно изменить число в строке ниже\n",
        "np.random.seed(111) #Даем хэш чтобы получать каждый раз случайные значения\n",
        "np.set_printoptions(precision=2) #Знаки после запятой\n",
        "w = np.random.rand(3) #Создали новый массив\n",
        "print(w)"
      ],
      "metadata": {
        "colab": {
          "base_uri": "https://localhost:8080/"
        },
        "id": "w3XBCw7h5Saj",
        "outputId": "e37fb6cc-7575-45c9-c20b-15315179ac9f"
      },
      "execution_count": 107,
      "outputs": [
        {
          "output_type": "stream",
          "name": "stdout",
          "text": [
            "[0.61 0.17 0.44]\n"
          ]
        }
      ]
    },
    {
      "cell_type": "code",
      "source": [
        "X = pd.DataFrame({'X_1': [data.x1.min(), data.x1.max()]})\n",
        "X.head()\n",
        "Y = -w[0]/w[1]*X-w[2]/w[1]\n",
        "print(X,\"\\n\",Y) #Вывод в одну строку\n"
      ],
      "metadata": {
        "colab": {
          "base_uri": "https://localhost:8080/"
        },
        "id": "jKHpLT57-Rpj",
        "outputId": "668560d9-18d4-441a-c04b-7e6e5d80985c"
      },
      "execution_count": 108,
      "outputs": [
        {
          "output_type": "stream",
          "name": "stdout",
          "text": [
            "   X_1\n",
            "0  0.5\n",
            "1  9.4 \n",
            "          X_1\n",
            "0  -4.389573\n",
            "1 -36.614820\n"
          ]
        }
      ]
    },
    {
      "cell_type": "code",
      "source": [
        "# сначала выводим график обучающей выборки\n",
        "data.plot(kind='scatter', x='x1', y='x2')\n",
        "# потом полученную прямую\n",
        "plt.plot(X, Y, c='red', linewidth=2)\n",
        "plt.show()"
      ],
      "metadata": {
        "colab": {
          "base_uri": "https://localhost:8080/",
          "height": 280
        },
        "id": "TIbo5s13_030",
        "outputId": "a70da994-c445-4ccf-de16-93036d92a55f"
      },
      "execution_count": 109,
      "outputs": [
        {
          "output_type": "display_data",
          "data": {
            "text/plain": [
              "<Figure size 432x288 with 1 Axes>"
            ],
            "image/png": "[encoded data removed]"
          },
          "metadata": {
            "needs_background": "light"
          }
        }
      ]
    },
    {
      "cell_type": "code",
      "source": [
        "count = 1\n",
        "c_exit = True\n",
        "while True:\n",
        "  print('Итерация номер', count)\n",
        "  for i in range(1, data.index.size +1):\n",
        "      coordintate = np.array([data.loc[i]['x1'],data.loc[i]['x2'],1])\n",
        "      print('Используем значения', coordintate)\n",
        "      f_net = np.sign(np.dot(w,coordintate))\n",
        "      if f_net == data.loc[i]['answer']:\n",
        "          print('Значения совпадают продолжаем')\n",
        "          c_exit = True\n",
        "      else:\n",
        "          w = w + 0.1 * (data.loc[i]['answer'] - f_net) * coordintate\n",
        "          print('Значения не совпадают меняем веса на', w)\n",
        "          c_exit = False\n",
        "          break\n",
        "  if c_exit == True:\n",
        "    break\n",
        "  count += 1"
      ],
      "metadata": {
        "colab": {
          "base_uri": "https://localhost:8080/"
        },
        "id": "jx_cQzOMGzWB",
        "outputId": "cceceffe-3e78-4ca3-d3dd-bed0d079a359"
      },
      "execution_count": 111,
      "outputs": [
        {
          "output_type": "stream",
          "name": "stdout",
          "text": [
            "Итерация номер 1\n",
            "Используем значения [1. 1. 1.]\n",
            "Значения совпадают продолжаем\n",
            "Используем значения [9.4 6.4 1. ]\n",
            "Значения совпадают продолжаем\n",
            "Используем значения [2.5 2.1 1. ]\n",
            "Значения совпадают продолжаем\n",
            "Используем значения [8.  7.7 1. ]\n",
            "Значения совпадают продолжаем\n",
            "Используем значения [0.5 2.2 1. ]\n",
            "Значения совпадают продолжаем\n",
            "Используем значения [7.9 8.4 1. ]\n",
            "Значения совпадают продолжаем\n",
            "Используем значения [7. 7. 1.]\n",
            "Значения совпадают продолжаем\n",
            "Используем значения [2.8 0.8 1. ]\n",
            "Значения совпадают продолжаем\n",
            "Используем значения [1.2 3.  1. ]\n",
            "Значения совпадают продолжаем\n",
            "Используем значения [7.8 6.1 1. ]\n",
            "Значения совпадают продолжаем\n"
          ]
        }
      ]
    },
    {
      "cell_type": "code",
      "source": [
        "Y = -(w[0]/w[1])*X-(w[2]/w[1])\n",
        "# сначала выводим график обучающей выборки\n",
        "data.plot(kind='scatter', x='x1', y='x2')\n",
        "# потом полученную прямую\n",
        "plt.plot(X, Y, c='red', linewidth=2)\n",
        "plt.show()"
      ],
      "metadata": {
        "colab": {
          "base_uri": "https://localhost:8080/",
          "height": 279
        },
        "id": "C96t7Izb3H-f",
        "outputId": "e6d6a056-4980-4e09-e477-dec4b295d24b"
      },
      "execution_count": 112,
      "outputs": [
        {
          "output_type": "display_data",
          "data": {
            "text/plain": [
              "<Figure size 432x288 with 1 Axes>"
            ],
            "image/png": "[encoded data removed]"
          },
          "metadata": {
            "needs_background": "light"
          }
        }
      ]
    }
  ]
}